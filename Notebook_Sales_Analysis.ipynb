{
  "cells": [
    {
      "cell_type": "markdown",
      "metadata": {
        "id": "BXRbKJoXeZ6o"
      },
      "source": [
        "Proyecto Análisis de datos de ventas, de una tienda online, con Pandas, Matplotlib y Seaborn"
      ]
    },
    {
      "cell_type": "markdown",
      "source": [
        "**Parte I: Limpieza y Preparación de Datos.:**"
      ],
      "metadata": {
        "id": "MOOdrk6YHi2m"
      }
    },
    {
      "cell_type": "markdown",
      "source": [
        "**Paso 1: Instalación de Librerías**"
      ],
      "metadata": {
        "id": "ijsDesMgHmv4"
      }
    },
    {
      "cell_type": "code",
      "source": [
        "pip install pandas matplotlib seaborn reportlab"
      ],
      "metadata": {
        "colab": {
          "base_uri": "https://localhost:8080/"
        },
        "id": "MRM_RwRuHPU8",
        "outputId": "6a73399f-34fe-49e5-e8a1-8e90c8f7336d"
      },
      "execution_count": 1,
      "outputs": [
        {
          "output_type": "stream",
          "name": "stdout",
          "text": [
            "Requirement already satisfied: pandas in /usr/local/lib/python3.10/dist-packages (1.5.3)\n",
            "Requirement already satisfied: matplotlib in /usr/local/lib/python3.10/dist-packages (3.7.1)\n",
            "Requirement already satisfied: seaborn in /usr/local/lib/python3.10/dist-packages (0.12.2)\n",
            "Collecting reportlab\n",
            "  Downloading reportlab-4.0.4-py3-none-any.whl (1.9 MB)\n",
            "\u001b[2K     \u001b[90m━━━━━━━━━━━━━━━━━━━━━━━━━━━━━━━━━━━━━━━━\u001b[0m \u001b[32m1.9/1.9 MB\u001b[0m \u001b[31m7.9 MB/s\u001b[0m eta \u001b[36m0:00:00\u001b[0m\n",
            "\u001b[?25hRequirement already satisfied: python-dateutil>=2.8.1 in /usr/local/lib/python3.10/dist-packages (from pandas) (2.8.2)\n",
            "Requirement already satisfied: pytz>=2020.1 in /usr/local/lib/python3.10/dist-packages (from pandas) (2023.3)\n",
            "Requirement already satisfied: numpy>=1.21.0 in /usr/local/lib/python3.10/dist-packages (from pandas) (1.23.5)\n",
            "Requirement already satisfied: contourpy>=1.0.1 in /usr/local/lib/python3.10/dist-packages (from matplotlib) (1.1.0)\n",
            "Requirement already satisfied: cycler>=0.10 in /usr/local/lib/python3.10/dist-packages (from matplotlib) (0.11.0)\n",
            "Requirement already satisfied: fonttools>=4.22.0 in /usr/local/lib/python3.10/dist-packages (from matplotlib) (4.42.1)\n",
            "Requirement already satisfied: kiwisolver>=1.0.1 in /usr/local/lib/python3.10/dist-packages (from matplotlib) (1.4.4)\n",
            "Requirement already satisfied: packaging>=20.0 in /usr/local/lib/python3.10/dist-packages (from matplotlib) (23.1)\n",
            "Requirement already satisfied: pillow>=6.2.0 in /usr/local/lib/python3.10/dist-packages (from matplotlib) (9.4.0)\n",
            "Requirement already satisfied: pyparsing>=2.3.1 in /usr/local/lib/python3.10/dist-packages (from matplotlib) (3.1.1)\n",
            "Requirement already satisfied: six>=1.5 in /usr/local/lib/python3.10/dist-packages (from python-dateutil>=2.8.1->pandas) (1.16.0)\n",
            "Installing collected packages: reportlab\n",
            "Successfully installed reportlab-4.0.4\n"
          ]
        }
      ]
    },
    {
      "cell_type": "markdown",
      "source": [
        "**Paso 2: Importación de Librerías y Carga de Datos**"
      ],
      "metadata": {
        "id": "8myojuLWH7Jt"
      }
    },
    {
      "cell_type": "code",
      "execution_count": 2,
      "metadata": {
        "id": "pUeHSs2YekVj"
      },
      "outputs": [],
      "source": [
        "import pandas as pd\n",
        "import matplotlib.pyplot as plt\n",
        "from reportlab.lib.pagesizes import letter\n",
        "from reportlab.pdfgen import canvas"
      ]
    },
    {
      "cell_type": "code",
      "execution_count": 7,
      "metadata": {
        "id": "zuzU51ZIvTq8"
      },
      "outputs": [],
      "source": [
        "# Carga de datos en el Dataframe\n",
        "df = pd.read_csv(\"ventas_divana.csv\", sep=\",\")"
      ]
    },
    {
      "cell_type": "markdown",
      "source": [
        "**Paso 3: Exploración Inicial de los Datos**"
      ],
      "metadata": {
        "id": "GNOEvscsIJFc"
      }
    },
    {
      "cell_type": "code",
      "source": [
        "# Mostrar las primeras filas del DataFrame\n",
        "print(df.head())"
      ],
      "metadata": {
        "colab": {
          "base_uri": "https://localhost:8080/"
        },
        "id": "GRH0kGGxIYHO",
        "outputId": "dd291aac-e4d6-4e89-a7e9-f773cb8b584e"
      },
      "execution_count": 8,
      "outputs": [
        {
          "output_type": "stream",
          "name": "stdout",
          "text": [
            "  Fecha de venta    SKU Número de orden  \\\n",
            "0     30-12-2020  D0088       401815275   \n",
            "1     31-12-2020  D0112       283229442   \n",
            "2     31-12-2020  D0021     105958663-A   \n",
            "3     31-12-2020  D0021     105941570-A   \n",
            "4     01-01-2021  D0015       403931675   \n",
            "\n",
            "                                           Producto  Cantidad  \\\n",
            "0  Carpa Castillo Princesa 75x75x160cm (013) DACTIC       1.0   \n",
            "1      Set de Chupete con 2 Tetina de Repuesto Azul       1.0   \n",
            "2                   Gimnasio piano para bebe Rosado       1.0   \n",
            "3                   Gimnasio piano para bebe Rosado       1.0   \n",
            "4                      Extractor Eléctrico de leche       1.0   \n",
            "\n",
            "   Precio de venta Envío Precio Facturable  Tienda         RUT  \n",
            "0            36990     0             36990   Linio  lertbtzo-r  \n",
            "1             9990  3990             13980   Linio  lsopstpp-o  \n",
            "2            38790  3990             42780  Ripley  zbosbebl-o  \n",
            "3            38790  4990             43780  Ripley  lttrpbgb-r  \n",
            "4            39990     0             39990   Linio  lbggrsel-e  \n"
          ]
        }
      ]
    },
    {
      "cell_type": "code",
      "source": [
        "# Obtener información sobre las columnas y tipos de datos\n",
        "print(df.info())"
      ],
      "metadata": {
        "colab": {
          "base_uri": "https://localhost:8080/"
        },
        "id": "6netKiv4Iblc",
        "outputId": "30448f40-24eb-475c-b5e3-7d08f4112ae6"
      },
      "execution_count": 9,
      "outputs": [
        {
          "output_type": "stream",
          "name": "stdout",
          "text": [
            "<class 'pandas.core.frame.DataFrame'>\n",
            "RangeIndex: 6034 entries, 0 to 6033\n",
            "Data columns (total 10 columns):\n",
            " #   Column             Non-Null Count  Dtype  \n",
            "---  ------             --------------  -----  \n",
            " 0   Fecha de venta     6034 non-null   object \n",
            " 1   SKU                6025 non-null   object \n",
            " 2   Número de orden    6031 non-null   object \n",
            " 3   Producto           6034 non-null   object \n",
            " 4   Cantidad           5955 non-null   float64\n",
            " 5   Precio de venta    6034 non-null   int64  \n",
            " 6   Envío              5977 non-null   object \n",
            " 7   Precio Facturable  6034 non-null   object \n",
            " 8   Tienda             6034 non-null   object \n",
            " 9   RUT                6034 non-null   object \n",
            "dtypes: float64(1), int64(1), object(8)\n",
            "memory usage: 471.5+ KB\n",
            "None\n"
          ]
        }
      ]
    },
    {
      "cell_type": "code",
      "source": [
        "# Obtener estadísticas descriptivas de las columnas numéricas\n",
        "print(df.describe())"
      ],
      "metadata": {
        "colab": {
          "base_uri": "https://localhost:8080/"
        },
        "id": "u8UtTV3EIgh1",
        "outputId": "968f6e5a-003d-4be7-e6de-9360c02e7b76"
      },
      "execution_count": 10,
      "outputs": [
        {
          "output_type": "stream",
          "name": "stdout",
          "text": [
            "          Cantidad  Precio de venta\n",
            "count  5955.000000      6034.000000\n",
            "mean      1.040470     22586.212794\n",
            "std       0.286068     17959.190931\n",
            "min       0.000000      2990.000000\n",
            "25%       1.000000      9990.000000\n",
            "50%       1.000000     16980.000000\n",
            "75%       1.000000     29990.000000\n",
            "max      11.000000    195990.000000\n"
          ]
        }
      ]
    },
    {
      "cell_type": "markdown",
      "source": [
        "**Paso 4: Identificación y Tratamiento de Datos Duplicados**"
      ],
      "metadata": {
        "id": "UaparKu-Iq32"
      }
    },
    {
      "cell_type": "code",
      "source": [
        "# Identificar registros duplicados basados en la columna 'Número de orden'y el 'SKU'\n",
        "duplicated_orders = df[df.duplicated(subset=['Número de orden', 'SKU'], keep=False)]\n",
        "print(duplicated_orders.head())"
      ],
      "metadata": {
        "colab": {
          "base_uri": "https://localhost:8080/"
        },
        "id": "9_ozgiASIsiY",
        "outputId": "c20237db-5884-4527-d788-43473f3a15d2"
      },
      "execution_count": 11,
      "outputs": [
        {
          "output_type": "stream",
          "name": "stdout",
          "text": [
            "     Fecha de venta    SKU Número de orden  \\\n",
            "1357     07-05-2021  D0191    121523911182   \n",
            "1358     07-05-2021  D0014    121524014929   \n",
            "1359     07-05-2021  D0008    121524406052   \n",
            "1360     07-05-2021  D0008    121518233787   \n",
            "1361     07-05-2021  D0191    121523911182   \n",
            "\n",
            "                                               Producto  Cantidad  \\\n",
            "1357  Body Manga Larga + Pantalón + Babero Set 3 Pie...       1.0   \n",
            "1358                     Extractor de Leche Manual Only       1.0   \n",
            "1359         Kit de Higiene y cuidado para bebes Rosado       1.0   \n",
            "1360         Kit de Higiene y cuidado para bebes Rosado       1.0   \n",
            "1361  Body Manga Larga + Pantalón + Babero Set 3 Pie...       1.0   \n",
            "\n",
            "      Precio de venta Envío Precio Facturable     Tienda      RUT  \n",
            "1357            24990  2618             27608  Falabella  Sin RUT  \n",
            "1358            15990  2618             18608  Falabella  Sin RUT  \n",
            "1359             9990  2618             12608  Falabella  Sin RUT  \n",
            "1360             9990  2618             12608  Falabella  Sin RUT  \n",
            "1361            24990  2618             27608  Falabella  Sin RUT  \n"
          ]
        }
      ]
    },
    {
      "cell_type": "code",
      "source": [
        "# Eliminar registros duplicados\n",
        "df = df.drop(duplicated_orders.index)"
      ],
      "metadata": {
        "id": "-yPM59g3J_md"
      },
      "execution_count": 12,
      "outputs": []
    },
    {
      "cell_type": "markdown",
      "source": [
        "**Paso 5: Tratamiento de Datos Faltantes**"
      ],
      "metadata": {
        "id": "4FwKbJcjkqkw"
      }
    },
    {
      "cell_type": "code",
      "source": [
        "# Verificar si hay datos faltantes en cada columna\n",
        "print(df.isnull().sum())"
      ],
      "metadata": {
        "colab": {
          "base_uri": "https://localhost:8080/"
        },
        "id": "m4L_zN4mk5Xg",
        "outputId": "69e3dae8-8df3-4988-de81-2ec2c27d5a00"
      },
      "execution_count": 13,
      "outputs": [
        {
          "output_type": "stream",
          "name": "stdout",
          "text": [
            "Fecha de venta        0\n",
            "SKU                   9\n",
            "Número de orden       1\n",
            "Producto              0\n",
            "Cantidad             79\n",
            "Precio de venta       0\n",
            "Envío                57\n",
            "Precio Facturable     0\n",
            "Tienda                0\n",
            "RUT                   0\n",
            "dtype: int64\n"
          ]
        }
      ]
    },
    {
      "cell_type": "markdown",
      "source": [
        "En el caso de nuestro dataframe, vamos a sustituir todos los campos vacíos por la frase “sin_información”, utilizando el método “fillna()”:"
      ],
      "metadata": {
        "id": "BJBzaLYZlQfY"
      }
    },
    {
      "cell_type": "code",
      "source": [
        "# Reemplazar campos vacíos por \"sin_información\" en todo el DataFrame\n",
        "df_filled = df.fillna(\"sin_información\")"
      ],
      "metadata": {
        "id": "wHxahWzllRgq"
      },
      "execution_count": 14,
      "outputs": []
    },
    {
      "cell_type": "markdown",
      "source": [
        "Para no interrumpir nuestro análisis, eliminaremos del dataframe original los registros del df_filled. Este segundo dataframe, lo almacenaremos en un archivo csv, en caso de que sea necesario consultar a la empresa, sobre los registros faltantes o “sin_información”:"
      ],
      "metadata": {
        "id": "LEzkXRl3lZCV"
      }
    },
    {
      "cell_type": "code",
      "source": [
        "# Eliminar los registros llenados del DataFrame original\n",
        "df = df.dropna()\n",
        "# Guardar el DataFrame llenado en un archivo CSV\n",
        "df_filled.to_csv('df_filled.csv', index=False)"
      ],
      "metadata": {
        "id": "Nu_qLPThlaS5"
      },
      "execution_count": 15,
      "outputs": []
    },
    {
      "cell_type": "markdown",
      "source": [
        "Volvemos a verificar que ya no tenemos registros duplicados, con df.isnull"
      ],
      "metadata": {
        "id": "g0-8p-b2lhY7"
      }
    },
    {
      "cell_type": "code",
      "source": [
        "# Verificar si hay datos faltantes en cada columna\n",
        "print(df.isnull().sum())"
      ],
      "metadata": {
        "colab": {
          "base_uri": "https://localhost:8080/"
        },
        "id": "Df8u-HKClzD9",
        "outputId": "0c47aa07-e770-472b-b1c1-703d5f4a1f0e"
      },
      "execution_count": 16,
      "outputs": [
        {
          "output_type": "stream",
          "name": "stdout",
          "text": [
            "Fecha de venta       0\n",
            "SKU                  0\n",
            "Número de orden      0\n",
            "Producto             0\n",
            "Cantidad             0\n",
            "Precio de venta      0\n",
            "Envío                0\n",
            "Precio Facturable    0\n",
            "Tienda               0\n",
            "RUT                  0\n",
            "dtype: int64\n"
          ]
        }
      ]
    },
    {
      "cell_type": "markdown",
      "source": [
        "**Paso 6: Ajuste de Tipos de Datos**"
      ],
      "metadata": {
        "id": "ATR3GP2Pl915"
      }
    },
    {
      "cell_type": "markdown",
      "source": [
        "Verificaremos los datos actuales de cada columna"
      ],
      "metadata": {
        "id": "XqjvaDlTmCwC"
      }
    },
    {
      "cell_type": "code",
      "source": [
        "print(df.dtypes)"
      ],
      "metadata": {
        "colab": {
          "base_uri": "https://localhost:8080/"
        },
        "id": "CqAPNq3JmGgU",
        "outputId": "56e103d0-ed18-4a25-e08e-dcce52125e92"
      },
      "execution_count": 17,
      "outputs": [
        {
          "output_type": "stream",
          "name": "stdout",
          "text": [
            "Fecha de venta        object\n",
            "SKU                   object\n",
            "Número de orden       object\n",
            "Producto              object\n",
            "Cantidad             float64\n",
            "Precio de venta        int64\n",
            "Envío                 object\n",
            "Precio Facturable     object\n",
            "Tienda                object\n",
            "RUT                   object\n",
            "dtype: object\n"
          ]
        }
      ]
    },
    {
      "cell_type": "markdown",
      "source": [
        "En este caso, cambiaremos la columna \"Fecha de venta\" a tipo de dato datetime, y \"Cantidad\", \"Precio de venta\", \"Envío\" y \"Precio Facturable\" a tipo de dato int"
      ],
      "metadata": {
        "id": "rQqlnuDJmOAA"
      }
    },
    {
      "cell_type": "code",
      "source": [
        "# Convertir columna \"Fecha de venta\" al tipo datetime.\n",
        "df['Fecha de venta'] = pd.to_datetime(df['Fecha de venta'], dayfirst=True)\n",
        "\n",
        "# Reemplazar comas por puntos en las columnas especificadas\n",
        "df[[\"Precio Facturable\", \"Envío\"]] = df[[\"Precio Facturable\", \"Envío\"]].astype(str)\n",
        "df[\"Precio Facturable\"] = df[\"Precio Facturable\"].str.replace(',', '.')\n",
        "df[\"Envío\"] = df[\"Envío\"].str.replace(',', '.')\n",
        "\n",
        "# Convertir las columnas a tipo float\n",
        "df[[\"Precio de venta\", \"Envío\", \"Precio Facturable\"]] = df[[\"Precio de venta\", \"Envío\", \"Precio Facturable\"]].astype(float)"
      ],
      "metadata": {
        "id": "x1oo-SXVmRh5"
      },
      "execution_count": 18,
      "outputs": []
    },
    {
      "cell_type": "markdown",
      "source": [
        "¡Listo! Con estos pasos, tenemos un DataFrame limpio y listo para comenzar con el análisis y la visualización."
      ],
      "metadata": {
        "id": "x7cqQRS_nmNN"
      }
    },
    {
      "cell_type": "markdown",
      "source": [
        "**Parte II: Análisis Descriptivo y Visualización**"
      ],
      "metadata": {
        "id": "ceoBOsfJovOM"
      }
    },
    {
      "cell_type": "markdown",
      "source": [
        "**Cálculos de Métricas Clave**"
      ],
      "metadata": {
        "id": "Kn0PNhacozFx"
      }
    },
    {
      "cell_type": "code",
      "source": [
        "# Crear una nueva columna \"Año-Mes\" para agrupar por mes y año\n",
        "df['Año-Mes'] = df['Fecha de venta'].dt.to_period('M')\n",
        "print(df['Año-Mes'])"
      ],
      "metadata": {
        "colab": {
          "base_uri": "https://localhost:8080/"
        },
        "id": "rgB0qvRjs3gC",
        "outputId": "7ede23ba-753e-4045-8e06-5e05f1dd8eb7"
      },
      "execution_count": 19,
      "outputs": [
        {
          "output_type": "stream",
          "name": "stdout",
          "text": [
            "0       2020-12\n",
            "1       2020-12\n",
            "2       2020-12\n",
            "3       2020-12\n",
            "4       2021-01\n",
            "         ...   \n",
            "6029    2023-03\n",
            "6030    2023-03\n",
            "6031    2023-03\n",
            "6032    2023-03\n",
            "6033    2023-03\n",
            "Name: Año-Mes, Length: 5819, dtype: period[M]\n"
          ]
        }
      ]
    },
    {
      "cell_type": "markdown",
      "source": [
        "Calculemos las ventas mensuales promedio. Para ello, vamos a construir paso a paso la línea de código que nos permitirá realizar este cálculo."
      ],
      "metadata": {
        "id": "tptFt8FY6HDg"
      }
    },
    {
      "cell_type": "markdown",
      "source": [
        "Primero, veremos el uso del Groupby para agrupar por Año-Mes"
      ],
      "metadata": {
        "id": "Oflo5jbq6ujx"
      }
    },
    {
      "cell_type": "code",
      "source": [
        "# Calcular las ventas promedio mensuales\n",
        "ventas_totales_mensuales = df.groupby('Año-Mes')\n",
        "print(ventas_totales_mensuales)"
      ],
      "metadata": {
        "colab": {
          "base_uri": "https://localhost:8080/"
        },
        "id": "QZq6lC3Y63J8",
        "outputId": "8d061c7f-eda7-4b78-9029-43da08e42d5e"
      },
      "execution_count": 20,
      "outputs": [
        {
          "output_type": "stream",
          "name": "stdout",
          "text": [
            "<pandas.core.groupby.generic.DataFrameGroupBy object at 0x7c9fa7737a90>\n"
          ]
        }
      ]
    },
    {
      "cell_type": "markdown",
      "source": [
        "Ahora, aplicaremos la función de agregación \"sum()\", a la columna \"Precio Facturable\", para conocer el total de ventas por cada mes de cada año."
      ],
      "metadata": {
        "id": "EZOLVN9K4K1k"
      }
    },
    {
      "cell_type": "code",
      "source": [
        "ventas_totales_mensuales = df.groupby('Año-Mes')['Precio Facturable'].sum()\n",
        "print(ventas_totales_mensuales)"
      ],
      "metadata": {
        "colab": {
          "base_uri": "https://localhost:8080/"
        },
        "id": "FS3hbgML4eeJ",
        "outputId": "31f215f9-b25c-48c3-96cb-a00f2712b0cf"
      },
      "execution_count": 21,
      "outputs": [
        {
          "output_type": "stream",
          "name": "stdout",
          "text": [
            "Año-Mes\n",
            "2020-12    1.375300e+05\n",
            "2021-01    7.911721e+06\n",
            "2021-02    6.847609e+06\n",
            "2021-03    9.234433e+06\n",
            "2021-04    6.549848e+06\n",
            "2021-05    9.282484e+06\n",
            "2021-06    1.027243e+07\n",
            "2021-07    9.635889e+06\n",
            "2021-08    8.429149e+06\n",
            "2021-09    5.950906e+06\n",
            "2021-10    5.710522e+06\n",
            "2021-11    5.483406e+06\n",
            "2021-12    7.761150e+06\n",
            "2022-01    3.674809e+06\n",
            "2022-02    4.335647e+06\n",
            "2022-03    4.792376e+06\n",
            "2022-04    7.425729e+06\n",
            "2022-05    7.347904e+06\n",
            "2022-06    4.725565e+06\n",
            "2022-07    3.651185e+06\n",
            "2022-08    2.926010e+06\n",
            "2022-09    1.955517e+06\n",
            "2022-10    2.751038e+06\n",
            "2022-11    3.049274e+06\n",
            "2022-12    3.205839e+06\n",
            "2023-01    8.788690e+05\n",
            "2023-02    1.166322e+06\n",
            "2023-03    9.083500e+05\n",
            "Freq: M, Name: Precio Facturable, dtype: float64\n"
          ]
        }
      ]
    },
    {
      "cell_type": "markdown",
      "source": [
        "Convertiremos el resultado a la notación decimal, en vez de la notación cientifica, con '{:.2f}'.format y apply()"
      ],
      "metadata": {
        "id": "fwwR9Rto-G1A"
      }
    },
    {
      "cell_type": "code",
      "source": [
        "ventas_totales_mensuales = df.groupby('Año-Mes')['Precio Facturable'].sum()\n",
        "\n",
        "# Mostrar el resultado con el formateo de cadena para notación decimal\n",
        "print(ventas_totales_mensuales.apply('{:.0f}'.format))"
      ],
      "metadata": {
        "colab": {
          "base_uri": "https://localhost:8080/"
        },
        "id": "-Ym8Vjb3-TNr",
        "outputId": "ffc2471a-2de6-4362-fca2-d84ecf86f06c"
      },
      "execution_count": 22,
      "outputs": [
        {
          "output_type": "stream",
          "name": "stdout",
          "text": [
            "Año-Mes\n",
            "2020-12      137530\n",
            "2021-01     7911721\n",
            "2021-02     6847609\n",
            "2021-03     9234433\n",
            "2021-04     6549848\n",
            "2021-05     9282484\n",
            "2021-06    10272434\n",
            "2021-07     9635889\n",
            "2021-08     8429149\n",
            "2021-09     5950906\n",
            "2021-10     5710522\n",
            "2021-11     5483406\n",
            "2021-12     7761150\n",
            "2022-01     3674809\n",
            "2022-02     4335647\n",
            "2022-03     4792376\n",
            "2022-04     7425729\n",
            "2022-05     7347904\n",
            "2022-06     4725565\n",
            "2022-07     3651185\n",
            "2022-08     2926010\n",
            "2022-09     1955517\n",
            "2022-10     2751038\n",
            "2022-11     3049274\n",
            "2022-12     3205839\n",
            "2023-01      878869\n",
            "2023-02     1166322\n",
            "2023-03      908350\n",
            "Freq: M, Name: Precio Facturable, dtype: object\n"
          ]
        }
      ]
    },
    {
      "cell_type": "markdown",
      "source": [
        "Ahora, veremos el uso del Groupby para agrupar por Año-Mes, la cantidad de \"Número de orden\""
      ],
      "metadata": {
        "id": "IhcKQSH3BS29"
      }
    },
    {
      "cell_type": "code",
      "source": [
        "cantidad_ordenes = df.groupby('Año-Mes')['Número de orden']\n",
        "print(cantidad_ordenes)"
      ],
      "metadata": {
        "colab": {
          "base_uri": "https://localhost:8080/"
        },
        "id": "F9fzku9-AO57",
        "outputId": "75e23cb5-1e78-4e2d-e62b-3db3e3dba7c3"
      },
      "execution_count": 23,
      "outputs": [
        {
          "output_type": "stream",
          "name": "stdout",
          "text": [
            "<pandas.core.groupby.generic.SeriesGroupBy object at 0x7c9f7133d4e0>\n"
          ]
        }
      ]
    },
    {
      "cell_type": "markdown",
      "source": [
        "Aplicaremos la función de agregación \".nunique\", para totalizar la cantidad de órdenes por \"Año-Mes\"."
      ],
      "metadata": {
        "id": "-EsAqEt1Be1Z"
      }
    },
    {
      "cell_type": "code",
      "source": [
        "cantidad_ordenes = df.groupby('Año-Mes')['Número de orden'].nunique()\n",
        "print(cantidad_ordenes)"
      ],
      "metadata": {
        "colab": {
          "base_uri": "https://localhost:8080/"
        },
        "id": "JMc4B2AbBpKw",
        "outputId": "d879a94f-c80f-4675-ceff-d4de0846f599"
      },
      "execution_count": 24,
      "outputs": [
        {
          "output_type": "stream",
          "name": "stdout",
          "text": [
            "Año-Mes\n",
            "2020-12      4\n",
            "2021-01    311\n",
            "2021-02    267\n",
            "2021-03    357\n",
            "2021-04    285\n",
            "2021-05    327\n",
            "2021-06    366\n",
            "2021-07    300\n",
            "2021-08    258\n",
            "2021-09    195\n",
            "2021-10    212\n",
            "2021-11    168\n",
            "2021-12    231\n",
            "2022-01    134\n",
            "2022-02    166\n",
            "2022-03    240\n",
            "2022-04    418\n",
            "2022-05    438\n",
            "2022-06    264\n",
            "2022-07    149\n",
            "2022-08     86\n",
            "2022-09     65\n",
            "2022-10     94\n",
            "2022-11     90\n",
            "2022-12     86\n",
            "2023-01     35\n",
            "2023-02     43\n",
            "2023-03     35\n",
            "Freq: M, Name: Número de orden, dtype: int64\n"
          ]
        }
      ]
    },
    {
      "cell_type": "markdown",
      "source": [
        "Ahora que tenemos el monto total de las ventas y la cantidad de órdenes por mes, podemos calcular las ventas promedio por mes, aplicando una simple división y con dos decimales:"
      ],
      "metadata": {
        "id": "ue8fv-ELEeXY"
      }
    },
    {
      "cell_type": "code",
      "source": [
        "ventas_promedio_mensuales = ventas_totales_mensuales / cantidad_ordenes\n",
        "print(ventas_promedio_mensuales.apply('{:.2f}'.format))"
      ],
      "metadata": {
        "colab": {
          "base_uri": "https://localhost:8080/"
        },
        "id": "A_igKvlRE05m",
        "outputId": "2576576c-7ef9-471c-8227-58b844b4d402"
      },
      "execution_count": 25,
      "outputs": [
        {
          "output_type": "stream",
          "name": "stdout",
          "text": [
            "Año-Mes\n",
            "2020-12    34382.50\n",
            "2021-01    25439.62\n",
            "2021-02    25646.48\n",
            "2021-03    25866.76\n",
            "2021-04    22981.92\n",
            "2021-05    28386.80\n",
            "2021-06    28066.76\n",
            "2021-07    32119.63\n",
            "2021-08    32671.12\n",
            "2021-09    30517.47\n",
            "2021-10    26936.42\n",
            "2021-11    32639.32\n",
            "2021-12    33598.05\n",
            "2022-01    27423.95\n",
            "2022-02    26118.36\n",
            "2022-03    19968.23\n",
            "2022-04    17764.90\n",
            "2022-05    16776.04\n",
            "2022-06    17899.87\n",
            "2022-07    24504.60\n",
            "2022-08    34023.37\n",
            "2022-09    30084.88\n",
            "2022-10    29266.36\n",
            "2022-11    33880.82\n",
            "2022-12    37277.20\n",
            "2023-01    25110.54\n",
            "2023-02    27123.77\n",
            "2023-03    25952.86\n",
            "Freq: M, dtype: object\n"
          ]
        }
      ]
    },
    {
      "cell_type": "markdown",
      "source": [
        "Simplificando los pasos: Los pasos anteriores los podemos ejecutar en uno solo, de la siguiente forma:"
      ],
      "metadata": {
        "id": "Ljj2NRpkG0g_"
      }
    },
    {
      "cell_type": "code",
      "source": [
        "# Calcular las ventas promedio mensuales\n",
        "ventas_promedio_mensuales = (df.groupby('Año-Mes')['Precio Facturable'].sum()/df.groupby('Año-Mes')['Número de orden'].nunique()).apply('{:.2f}'.format)\n",
        "\n",
        "print(ventas_promedio_mensuales)"
      ],
      "metadata": {
        "colab": {
          "base_uri": "https://localhost:8080/"
        },
        "id": "K1naNU1MI6lv",
        "outputId": "6979734a-11b2-433c-8538-d48c4acfd751"
      },
      "execution_count": 26,
      "outputs": [
        {
          "output_type": "stream",
          "name": "stdout",
          "text": [
            "Año-Mes\n",
            "2020-12    34382.50\n",
            "2021-01    25439.62\n",
            "2021-02    25646.48\n",
            "2021-03    25866.76\n",
            "2021-04    22981.92\n",
            "2021-05    28386.80\n",
            "2021-06    28066.76\n",
            "2021-07    32119.63\n",
            "2021-08    32671.12\n",
            "2021-09    30517.47\n",
            "2021-10    26936.42\n",
            "2021-11    32639.32\n",
            "2021-12    33598.05\n",
            "2022-01    27423.95\n",
            "2022-02    26118.36\n",
            "2022-03    19968.23\n",
            "2022-04    17764.90\n",
            "2022-05    16776.04\n",
            "2022-06    17899.87\n",
            "2022-07    24504.60\n",
            "2022-08    34023.37\n",
            "2022-09    30084.88\n",
            "2022-10    29266.36\n",
            "2022-11    33880.82\n",
            "2022-12    37277.20\n",
            "2023-01    25110.54\n",
            "2023-02    27123.77\n",
            "2023-03    25952.86\n",
            "Freq: M, dtype: object\n"
          ]
        }
      ]
    },
    {
      "cell_type": "markdown",
      "source": [
        "Si queremos asignarle un nombre a la columna que contiene el cálculo del promedio de ventas por mes, se puede convertir la serie \"ventas_promedio_mensuales\" a un dataframe."
      ],
      "metadata": {
        "id": "Re0MIxttLqMQ"
      }
    },
    {
      "cell_type": "code",
      "source": [
        "# Calcular los productos más vendidos\n",
        "ventas_promedio_df = ventas_promedio_mensuales.reset_index()\n",
        "ventas_promedio_df.columns = ['Año-Mes', 'Ventas Promedio']\n",
        "print(ventas_promedio_df)"
      ],
      "metadata": {
        "colab": {
          "base_uri": "https://localhost:8080/"
        },
        "id": "cvPo0p_4NyG-",
        "outputId": "475bfc85-c3cd-4446-a7d5-7ec45add8b5d"
      },
      "execution_count": 27,
      "outputs": [
        {
          "output_type": "stream",
          "name": "stdout",
          "text": [
            "    Año-Mes Ventas Promedio\n",
            "0   2020-12        34382.50\n",
            "1   2021-01        25439.62\n",
            "2   2021-02        25646.48\n",
            "3   2021-03        25866.76\n",
            "4   2021-04        22981.92\n",
            "5   2021-05        28386.80\n",
            "6   2021-06        28066.76\n",
            "7   2021-07        32119.63\n",
            "8   2021-08        32671.12\n",
            "9   2021-09        30517.47\n",
            "10  2021-10        26936.42\n",
            "11  2021-11        32639.32\n",
            "12  2021-12        33598.05\n",
            "13  2022-01        27423.95\n",
            "14  2022-02        26118.36\n",
            "15  2022-03        19968.23\n",
            "16  2022-04        17764.90\n",
            "17  2022-05        16776.04\n",
            "18  2022-06        17899.87\n",
            "19  2022-07        24504.60\n",
            "20  2022-08        34023.37\n",
            "21  2022-09        30084.88\n",
            "22  2022-10        29266.36\n",
            "23  2022-11        33880.82\n",
            "24  2022-12        37277.20\n",
            "25  2023-01        25110.54\n",
            "26  2023-02        27123.77\n",
            "27  2023-03        25952.86\n"
          ]
        }
      ]
    },
    {
      "cell_type": "markdown",
      "source": [
        "Haciendo uso del Groupby, calcularemos los productos más vendidos"
      ],
      "metadata": {
        "id": "4wqRv7ryTD9r"
      }
    },
    {
      "cell_type": "code",
      "source": [
        "# Calcular los productos más vendidos\n",
        "productos_mas_vendidos = df.groupby('SKU')['Cantidad'].sum().sort_values(ascending=False).head(10)\n",
        "print(productos_mas_vendidos)"
      ],
      "metadata": {
        "colab": {
          "base_uri": "https://localhost:8080/"
        },
        "id": "sQVbIV33TiH7",
        "outputId": "00d9a6d2-d67f-4b30-cf91-7add9b69d982"
      },
      "execution_count": 28,
      "outputs": [
        {
          "output_type": "stream",
          "name": "stdout",
          "text": [
            "SKU\n",
            "D0014    455.0\n",
            "D0023    292.0\n",
            "D0001    271.0\n",
            "D0021    180.0\n",
            "D0015    166.0\n",
            "D0022    145.0\n",
            "D0094    132.0\n",
            "D0160    126.0\n",
            "D0020    126.0\n",
            "D0005     97.0\n",
            "Name: Cantidad, dtype: float64\n"
          ]
        }
      ]
    },
    {
      "cell_type": "markdown",
      "source": [
        "Ahora calculemos el Valor Promedio de la Cesta de Compras, también haciendo uso de Groupby"
      ],
      "metadata": {
        "id": "6eI4AvKeWTdG"
      }
    },
    {
      "cell_type": "code",
      "source": [
        "# Calcular el valor promedio de la cesta de compras\n",
        "valor_promedio_cesta = df.groupby('Número de orden')['Precio Facturable'].sum().mean()\n",
        "print(valor_promedio_cesta)"
      ],
      "metadata": {
        "colab": {
          "base_uri": "https://localhost:8080/"
        },
        "id": "n28ILm2rXPjg",
        "outputId": "108965ad-694c-4c5b-a87c-0b1e619eeadf"
      },
      "execution_count": 29,
      "outputs": [
        {
          "output_type": "stream",
          "name": "stdout",
          "text": [
            "25960.440042681188\n"
          ]
        }
      ]
    },
    {
      "cell_type": "markdown",
      "source": [
        "Retención de Clientes (En porcentaje) por mes con Groupby"
      ],
      "metadata": {
        "id": "9ugJOcvbZXtN"
      }
    },
    {
      "cell_type": "code",
      "source": [
        "# Calcular la retención de clientes por mes\n",
        "clientes_retencion = df.groupby('Año-Mes')['Número de orden'].nunique()\n",
        "# Calculamos el cambio porcentual entre los valores de órdenes únicas en meses sucesivos\n",
        "clientes_retencion = (clientes_retencion.pct_change().fillna(0) * 100).apply('{:.2f}'.format)\n",
        "clientes_retencion = clientes_retencion.astype(float)\n",
        "print(clientes_retencion)"
      ],
      "metadata": {
        "colab": {
          "base_uri": "https://localhost:8080/"
        },
        "id": "Trsa9kdFZjNA",
        "outputId": "beba5f48-01ac-41fd-ab6f-65b7a046e7dd"
      },
      "execution_count": 30,
      "outputs": [
        {
          "output_type": "stream",
          "name": "stdout",
          "text": [
            "Año-Mes\n",
            "2020-12       0.00\n",
            "2021-01    7675.00\n",
            "2021-02     -14.15\n",
            "2021-03      33.71\n",
            "2021-04     -20.17\n",
            "2021-05      14.74\n",
            "2021-06      11.93\n",
            "2021-07     -18.03\n",
            "2021-08     -14.00\n",
            "2021-09     -24.42\n",
            "2021-10       8.72\n",
            "2021-11     -20.75\n",
            "2021-12      37.50\n",
            "2022-01     -41.99\n",
            "2022-02      23.88\n",
            "2022-03      44.58\n",
            "2022-04      74.17\n",
            "2022-05       4.78\n",
            "2022-06     -39.73\n",
            "2022-07     -43.56\n",
            "2022-08     -42.28\n",
            "2022-09     -24.42\n",
            "2022-10      44.62\n",
            "2022-11      -4.26\n",
            "2022-12      -4.44\n",
            "2023-01     -59.30\n",
            "2023-02      22.86\n",
            "2023-03     -18.60\n",
            "Freq: M, Name: Número de orden, dtype: float64\n"
          ]
        }
      ]
    },
    {
      "cell_type": "markdown",
      "source": [
        "Tendencia de ventas por día de semana"
      ],
      "metadata": {
        "id": "ROL3rKo0cQVT"
      }
    },
    {
      "cell_type": "code",
      "source": [
        "# Agrega la columna 'Día de la semana', que agrega el nombre del día de la semana, correspondiente a la fecha\n",
        "df['Día de la semana'] = df['Fecha de venta'].dt.day_name()\n",
        "# Calcular las tendencias de ventas por día de la semana\n",
        "tendencias_dia_semana = df.groupby('Día de la semana')['Precio Facturable'].mean().sort_values(ascending=False)\n",
        "print(tendencias_dia_semana)"
      ],
      "metadata": {
        "colab": {
          "base_uri": "https://localhost:8080/"
        },
        "id": "aeqaTxabcUne",
        "outputId": "8a80e2f5-d1ff-466c-c2aa-3fa79f75340c"
      },
      "execution_count": 31,
      "outputs": [
        {
          "output_type": "stream",
          "name": "stdout",
          "text": [
            "Día de la semana\n",
            "Saturday     28101.969147\n",
            "Monday       25524.460513\n",
            "Sunday       25386.868280\n",
            "Tuesday      25016.876639\n",
            "Friday       24612.984190\n",
            "Wednesday    24482.943556\n",
            "Thursday     23592.531435\n",
            "Name: Precio Facturable, dtype: float64\n"
          ]
        }
      ]
    },
    {
      "cell_type": "markdown",
      "source": [
        "Creación de archivo PDF, donde generaremos el informe ejecutivo"
      ],
      "metadata": {
        "id": "Zh_i3JHJmDQQ"
      }
    },
    {
      "cell_type": "code",
      "source": [
        "# asignamos un nombre al archivo PDF\n",
        "pdf_filename = 'Informe_Ejecutivo.pdf'\n",
        "# Se crea el archivo en tamaño “letter”\n",
        "c = canvas.Canvas(pdf_filename, pagesize=letter)"
      ],
      "metadata": {
        "id": "K5TcspGHnP5g"
      },
      "execution_count": 32,
      "outputs": []
    },
    {
      "cell_type": "markdown",
      "source": [
        "Agregar título e introducción al archivo PDF"
      ],
      "metadata": {
        "id": "uCnWKd0NnT__"
      }
    },
    {
      "cell_type": "code",
      "source": [
        "c.drawString(180, 700, 'Informe Ejecutivo: Análisis de Ventas')\n",
        "c.drawString(20, 670, 'En este informe, presentamos los resultados del análisis de ventas de la empresa')\n",
        "c.drawString(20, 650, 'Divana. Se realizaron diversos análisis exploratorios y visualizaciones para obtener')\n",
        "c.drawString(20, 630, 'insights clave sobre las ventas y la retención de clientes.')"
      ],
      "metadata": {
        "id": "vfHhKwQBnUnU"
      },
      "execution_count": 33,
      "outputs": []
    },
    {
      "cell_type": "markdown",
      "source": [
        "Agregar logo o una imagen"
      ],
      "metadata": {
        "id": "RVTGN72qnXjG"
      }
    },
    {
      "cell_type": "code",
      "source": [
        "# Se ingresa la ruta de nuestra imagen\n",
        "image_path = 'logo.png'\n",
        "# Se definen las coordenadas de la imagen en la hoja del PDF y su tamaño.\n",
        "c.drawImage(image_path, 460, 650, width=110, height=100)"
      ],
      "metadata": {
        "id": "HYZhpubKnZW8",
        "colab": {
          "base_uri": "https://localhost:8080/"
        },
        "outputId": "06583e44-4bad-4aee-ea3f-6283a6b036ea"
      },
      "execution_count": 35,
      "outputs": [
        {
          "output_type": "execute_result",
          "data": {
            "text/plain": [
              "(612, 382)"
            ]
          },
          "metadata": {},
          "execution_count": 35
        }
      ]
    },
    {
      "cell_type": "markdown",
      "source": [
        "**Visualizaciones con Matplotlib**"
      ],
      "metadata": {
        "id": "5BWwIT4EgBSy"
      }
    },
    {
      "cell_type": "markdown",
      "source": [
        "Gráfico de Ventas Promedio Mensuales:"
      ],
      "metadata": {
        "id": "pO_uxwT7gJCV"
      }
    },
    {
      "cell_type": "code",
      "source": [
        "ventas_promedio_mensuales = ventas_promedio_mensuales.astype(float)\n",
        "\n",
        "plt.figure(figsize=(10,6))\n",
        "ventas_promedio_mensuales.plot(kind='bar', color='skyblue')\n",
        "plt.title('Ventas Promedio Mensuales')\n",
        "plt.xlabel('Año-Mes')\n",
        "plt.ylabel('Monto Ventas Promedio')\n",
        "plt.xticks(rotation=45)\n",
        "plt.tight_layout()\n",
        "plt.savefig('ventas_promedio_mensuales.png')\n",
        "plt.show()\n",
        "c.drawImage('ventas_promedio_mensuales.png', 20, 196, width=580, height=400)"
      ],
      "metadata": {
        "colab": {
          "base_uri": "https://localhost:8080/",
          "height": 625
        },
        "id": "plSkoLV4gMa5",
        "outputId": "4f503b2a-224b-4c8f-dcd2-cc32cafb30d8"
      },
      "execution_count": 36,
      "outputs": [
        {
          "output_type": "display_data",
          "data": {
            "text/plain": [
              "<Figure size 1000x600 with 1 Axes>"
            ],
            "image/png": "[encoded data removed]"
          },
          "metadata": {}
        },
        {
          "output_type": "execute_result",
          "data": {
            "text/plain": [
              "(1000, 600)"
            ]
          },
          "metadata": {},
          "execution_count": 36
        }
      ]
    },
    {
      "cell_type": "markdown",
      "source": [
        "Gráfico de Productos Más Vendidos:"
      ],
      "metadata": {
        "id": "A4ljFO4n-A28"
      }
    },
    {
      "cell_type": "code",
      "source": [
        "c.showPage()\n",
        "plt.figure(figsize=(10,6))\n",
        "productos_mas_vendidos.plot(kind='area', x= 'SKU', y='Cantidad', color='skyblue')\n",
        "plt.title('Productos más vendidos')\n",
        "plt.xlabel('SKU')\n",
        "plt.ylabel('Cantidad vendida')\n",
        "plt.xticks(range(10), productos_mas_vendidos.index, rotation=45)\n",
        "plt.tight_layout()\n",
        "plt.savefig('Productos Más Vendidos.png')\n",
        "plt.show()\n",
        "c.drawImage('Productos Más Vendidos.png', 20, 396, width=580, height=376)"
      ],
      "metadata": {
        "colab": {
          "base_uri": "https://localhost:8080/",
          "height": 625
        },
        "id": "hJSszhza_13i",
        "outputId": "5232f92f-d275-4325-b45a-e86654944417"
      },
      "execution_count": 37,
      "outputs": [
        {
          "output_type": "display_data",
          "data": {
            "text/plain": [
              "<Figure size 1000x600 with 1 Axes>"
            ],
            "image/png": "[encoded data removed]"
          },
          "metadata": {}
        },
        {
          "output_type": "execute_result",
          "data": {
            "text/plain": [
              "(1000, 600)"
            ]
          },
          "metadata": {},
          "execution_count": 37
        }
      ]
    },
    {
      "cell_type": "markdown",
      "source": [
        "Gráfico de Ingresos Totales por Mes"
      ],
      "metadata": {
        "id": "GrsKuE12KHXT"
      }
    },
    {
      "cell_type": "code",
      "source": [
        "plt.figure(figsize=(10,6))\n",
        "ventas_totales_mensuales.plot(kind='line', marker='o', color='skyblue')\n",
        "plt.title('Ingresos mensuales')\n",
        "xlabel = 'Año-Mes'\n",
        "ylabel = 'Precio Facturable'\n",
        "plt.xticks(rotation=45)\n",
        "plt.tight_layout()\n",
        "plt.savefig('Ingresos mensuales.png')\n",
        "plt.show()\n",
        "c.drawImage('Ingresos mensuales.png', 20, 10, width=580, height=376)"
      ],
      "metadata": {
        "colab": {
          "base_uri": "https://localhost:8080/",
          "height": 625
        },
        "id": "NTT8Yc5AKKjB",
        "outputId": "2f9f4575-8306-46fb-8f4d-b9842ff951be"
      },
      "execution_count": 38,
      "outputs": [
        {
          "output_type": "display_data",
          "data": {
            "text/plain": [
              "<Figure size 1000x600 with 1 Axes>"
            ],
            "image/png": "[encoded data removed]"
          },
          "metadata": {}
        },
        {
          "output_type": "execute_result",
          "data": {
            "text/plain": [
              "(1000, 600)"
            ]
          },
          "metadata": {},
          "execution_count": 38
        }
      ]
    },
    {
      "cell_type": "markdown",
      "source": [
        "Gráfico de Retención de Clientes:"
      ],
      "metadata": {
        "id": "xNhd5o0zLNdu"
      }
    },
    {
      "cell_type": "code",
      "source": [
        "c.showPage()\n",
        "plt.figure(figsize=(10,6))\n",
        "clientes_retencion.plot(kind='barh', color='skyblue')\n",
        "plt.title('Retención de Clientes')\n",
        "plt.xlabel('Año-Mes')\n",
        "plt.ylabel('Porcentaje de retención')\n",
        "plt.xticks(rotation=45)\n",
        "plt.gca().invert_yaxis()\n",
        "plt.tight_layout()\n",
        "plt.savefig('Retención de Clientes.png')\n",
        "plt.show()\n",
        "c.drawImage('Retención de Clientes.png', 20, 396, width=580, height=376)"
      ],
      "metadata": {
        "colab": {
          "base_uri": "https://localhost:8080/",
          "height": 625
        },
        "id": "z3fRkr2NLOZZ",
        "outputId": "a701348c-fcce-4851-90ff-3e90b965d349"
      },
      "execution_count": 39,
      "outputs": [
        {
          "output_type": "display_data",
          "data": {
            "text/plain": [
              "<Figure size 1000x600 with 1 Axes>"
            ],
            "image/png": "[encoded data removed]"
          },
          "metadata": {}
        },
        {
          "output_type": "execute_result",
          "data": {
            "text/plain": [
              "(1000, 600)"
            ]
          },
          "metadata": {},
          "execution_count": 39
        }
      ]
    },
    {
      "cell_type": "markdown",
      "source": [
        "Gráfico de Tendencias de Ventas por Día de la Semana:"
      ],
      "metadata": {
        "id": "wNa9EPbBsxBm"
      }
    },
    {
      "cell_type": "code",
      "source": [
        "plt.figure(figsize=(10,6))\n",
        "tendencias_dia_semana.plot(kind='line', marker='o', color='skyblue')\n",
        "plt.title('Tendencias de Ventas por Día de la Semana')\n",
        "plt.xlabel('Día de la Semana')\n",
        "plt.ylabel('Ventas Promedio')\n",
        "plt.xticks(rotation=45)\n",
        "plt.tight_layout()\n",
        "plt.savefig('Tendencias de Ventas por Día de la Semana.png')\n",
        "plt.show()\n",
        "c.drawImage('Tendencias de Ventas por Día de la Semana.png', 20, 10, width=580, height=376)"
      ],
      "metadata": {
        "colab": {
          "base_uri": "https://localhost:8080/",
          "height": 625
        },
        "id": "Z0py0LcQsyA7",
        "outputId": "bc0d13fa-fdee-419c-de21-047d5a41caab"
      },
      "execution_count": 40,
      "outputs": [
        {
          "output_type": "display_data",
          "data": {
            "text/plain": [
              "<Figure size 1000x600 with 1 Axes>"
            ],
            "image/png": "[encoded data removed]"
          },
          "metadata": {}
        },
        {
          "output_type": "execute_result",
          "data": {
            "text/plain": [
              "(1000, 600)"
            ]
          },
          "metadata": {},
          "execution_count": 40
        }
      ]
    },
    {
      "cell_type": "markdown",
      "source": [
        "Análisis RFM (Recencia, Frecuencia y Monto)"
      ],
      "metadata": {
        "id": "f5WvqKqHxaMg"
      }
    },
    {
      "cell_type": "markdown",
      "source": [
        "Cálculo de la fecha más reciente"
      ],
      "metadata": {
        "id": "HIv03HK3AeXC"
      }
    },
    {
      "cell_type": "code",
      "source": [
        "# Calcular la fecha más reciente en el conjunto de datos\n",
        "fecha_reciente = df['Fecha de venta'].max()\n",
        "print(fecha_reciente)"
      ],
      "metadata": {
        "colab": {
          "base_uri": "https://localhost:8080/"
        },
        "id": "ua-MvsrfABw6",
        "outputId": "b4f08b3e-d3e7-4ddf-c0b8-83e26fb1247a"
      },
      "execution_count": 41,
      "outputs": [
        {
          "output_type": "stream",
          "name": "stdout",
          "text": [
            "2023-03-30 00:00:00\n"
          ]
        }
      ]
    },
    {
      "cell_type": "markdown",
      "source": [
        "Crear un nuevo DataFrame con los valores RFM"
      ],
      "metadata": {
        "id": "4T9nGoNqAmb7"
      }
    },
    {
      "cell_type": "code",
      "source": [
        "rfm_df = df.groupby('RUT').agg({\n",
        "    'Fecha de venta': lambda x: (fecha_reciente - x.max()).days,\n",
        "    'Número de orden': 'count',\n",
        "    'Precio Facturable': 'sum'\n",
        "    })\n",
        "rfm_df['Precio Facturable'] = rfm_df['Precio Facturable'].apply('{:.0f}'.format)\n",
        "print(rfm_df)"
      ],
      "metadata": {
        "colab": {
          "base_uri": "https://localhost:8080/"
        },
        "id": "Q8V1_Ha1BCqD",
        "outputId": "3a50e208-741c-46ac-f026-ee199d481b21"
      },
      "execution_count": 42,
      "outputs": [
        {
          "output_type": "stream",
          "name": "stdout",
          "text": [
            "              Fecha de venta  Número de orden Precio Facturable\n",
            "RUT                                                            \n",
            "\\tlsppezrs-t             470                1             43608\n",
            "\\tltbglzbl-e             323                1             14990\n",
            " lblltrrg-l              367                1             14990\n",
            " lbortrge-b              493                2             68980\n",
            " lerlrols-t              448                3             34160\n",
            "...                      ...              ...               ...\n",
            "zztrgoep-b               382                1             12914\n",
            "zztsrtee-k               644                1             58990\n",
            "zztzsott-l               342                1             14990\n",
            "zzzoslbl-p               464                1             50990\n",
            " ltbrrpoz-r              699                3             18770\n",
            "\n",
            "[3038 rows x 3 columns]\n"
          ]
        }
      ]
    },
    {
      "cell_type": "code",
      "source": [
        "# Renombrar las columnas para RFM\n",
        "rfm_df.rename(columns={\n",
        "    'Fecha de venta': 'Recencia',\n",
        "    'Número de orden': 'Frecuencia',\n",
        "    'Precio Facturable': 'Monto'\n",
        "}, inplace=True)\n",
        "\n",
        "# Cambiar el tipo de datos del dataframe, a integer (int)\n",
        "rfm_df = rfm_df.astype(int)\n",
        "\n",
        "# Imprimir los primeros 10 registros\n",
        "print(rfm_df.head(10))"
      ],
      "metadata": {
        "colab": {
          "base_uri": "https://localhost:8080/"
        },
        "id": "mZZxPa_JP_Gd",
        "outputId": "7cbe43de-1b96-4f58-e3e4-6984c3305997"
      },
      "execution_count": 43,
      "outputs": [
        {
          "output_type": "stream",
          "name": "stdout",
          "text": [
            "              Recencia  Frecuencia     Monto\n",
            "RUT                                         \n",
            "\\tlsppezrs-t       470           1     43608\n",
            "\\tltbglzbl-e       323           1     14990\n",
            " lblltrrg-l        367           1     14990\n",
            " lbortrge-b        493           2     68980\n",
            " lerlrols-t        448           3     34160\n",
            " lsgslgbt-g        731           1     39990\n",
            " ltbzzzoe-p        350           2     22431\n",
            " ltzzeslr-o        765           1      5990\n",
            "Sin RUT              3        2459  67550849\n",
            "bbbeoss-z          101           1     10991\n"
          ]
        }
      ]
    },
    {
      "cell_type": "markdown",
      "source": [
        "Segmentación RFM"
      ],
      "metadata": {
        "id": "IVfvpjxEN8r6"
      }
    },
    {
      "cell_type": "markdown",
      "source": [
        "**Funciones**"
      ],
      "metadata": {
        "id": "vpUvpnoPtkT-"
      }
    },
    {
      "cell_type": "code",
      "source": [
        "# Crear funciones para asignar valores RFM\n",
        "# Función asignar_recencia\n",
        "def asignar_recencia(r):\n",
        "  if r <= 30:\n",
        "    return 4\n",
        "  elif r <= 60:\n",
        "    return 3\n",
        "  elif r <= 90:\n",
        "    return 2\n",
        "  else:\n",
        "    return 1"
      ],
      "metadata": {
        "id": "8fejt7xMtyoG"
      },
      "execution_count": 44,
      "outputs": []
    },
    {
      "cell_type": "code",
      "source": [
        "# Función asignar_frecuencia\n",
        "def asignar_frecuencia(f):\n",
        "  if f <= 1:\n",
        "    return 1\n",
        "  elif f <= 2:\n",
        "    return 2\n",
        "  elif f <= 3:\n",
        "    return 3\n",
        "  else:\n",
        "    return 4"
      ],
      "metadata": {
        "id": "vXYsoBPluege"
      },
      "execution_count": 45,
      "outputs": []
    },
    {
      "cell_type": "code",
      "source": [
        "# Función asignar_monto\n",
        "def asignar_monto(m):\n",
        "  if m <= 50000:\n",
        "    return 1\n",
        "  elif m <= 100000:\n",
        "    return 2\n",
        "  elif m <= 150000:\n",
        "    return 3\n",
        "  else:\n",
        "    return 4"
      ],
      "metadata": {
        "id": "ViLbnJMgu6Ry"
      },
      "execution_count": 46,
      "outputs": []
    },
    {
      "cell_type": "markdown",
      "source": [
        "Aplicar las funciones a las columnas RFM"
      ],
      "metadata": {
        "id": "pG-b3NN0vRQ-"
      }
    },
    {
      "cell_type": "code",
      "source": [
        "rfm_df['Recencia'] = rfm_df['Recencia'].apply(asignar_recencia)\n",
        "rfm_df['Frecuencia'] = rfm_df['Frecuencia'].apply(asignar_frecuencia)\n",
        "rfm_df['Monto'] = rfm_df['Monto'].apply(asignar_monto)\n",
        "\n",
        "# Mostrar los primeros registros del DataFrame RFM con valores segmentados\n",
        "print(rfm_df.head(10))"
      ],
      "metadata": {
        "colab": {
          "base_uri": "https://localhost:8080/"
        },
        "id": "7Jr7RxGxvS1w",
        "outputId": "3b075a45-3136-4bea-a5da-beeb5da9322c"
      },
      "execution_count": 47,
      "outputs": [
        {
          "output_type": "stream",
          "name": "stdout",
          "text": [
            "              Recencia  Frecuencia  Monto\n",
            "RUT                                      \n",
            "\\tlsppezrs-t         1           1      1\n",
            "\\tltbglzbl-e         1           1      1\n",
            " lblltrrg-l          1           1      1\n",
            " lbortrge-b          1           2      2\n",
            " lerlrols-t          1           3      1\n",
            " lsgslgbt-g          1           1      1\n",
            " ltbzzzoe-p          1           2      1\n",
            " ltzzeslr-o          1           1      1\n",
            "Sin RUT              4           4      4\n",
            "bbbeoss-z            1           1      1\n"
          ]
        }
      ]
    },
    {
      "cell_type": "markdown",
      "source": [
        "Análisis de Segmentos RFM"
      ],
      "metadata": {
        "id": "2Dx_z0aLN_yf"
      }
    },
    {
      "cell_type": "code",
      "source": [
        "# Calcular el RFM combinado para cada cliente\n",
        "rfm_df['RFM'] = rfm_df['Recencia'] * 100 + rfm_df['Frecuencia'] * 10 + rfm_df['Monto']\n",
        "\n",
        "# ordenar los registros de Mayor a Menor\n",
        "rfm_df = rfm_df.sort_values('RFM', ascending=False)\n",
        "\n",
        "# Mostrar los primeros registros del DataFrame RFM con valores RFM combinados\n",
        "print(rfm_df.head(10))"
      ],
      "metadata": {
        "colab": {
          "base_uri": "https://localhost:8080/"
        },
        "id": "YlnAl0XjOHij",
        "outputId": "c3a3d246-1432-497b-8fc0-94b5285aa81d"
      },
      "execution_count": 48,
      "outputs": [
        {
          "output_type": "stream",
          "name": "stdout",
          "text": [
            "            Recencia  Frecuencia  Monto  RFM\n",
            "RUT                                         \n",
            "Sin RUT            4           4      4  444\n",
            "lbltbbsz-b         4           4      3  443\n",
            "ltlggrrz-g         4           2      1  421\n",
            "ltgrpssl-e         4           1      1  411\n",
            "lbrplree-t         4           1      1  411\n",
            "lgtzrzzo-p         4           1      1  411\n",
            "ltzrbtep-s         4           1      1  411\n",
            "gpsegll-b          4           1      1  411\n",
            "lbzrepzr-s         4           1      1  411\n",
            "lsrrezzl-p         4           1      1  411\n"
          ]
        }
      ]
    },
    {
      "cell_type": "markdown",
      "source": [
        "Visualizaciones"
      ],
      "metadata": {
        "id": "YfOjEfsIPi3S"
      }
    },
    {
      "cell_type": "code",
      "source": [
        "# Visualizar la distribución de los segmentos RFM y guardarlos en documento PDF\n",
        "c.showPage()\n",
        "plt.figure(figsize=(10,6))\n",
        "rfm_df['RFM'].plot(kind='hist', color= 'skyblue')\n",
        "plt.title('Distribución de Segmentos RFM')\n",
        "plt.xlabel('Segmento RFM')\n",
        "plt.ylabel('Frecuencia')\n",
        "plt.tight_layout()\n",
        "plt.savefig('Distribución de Segmentos RFM.png')\n",
        "plt.show()\n",
        "c.drawImage('Distribución de Segmentos RFM.png', 20, 396, width=580, height=376)"
      ],
      "metadata": {
        "colab": {
          "base_uri": "https://localhost:8080/",
          "height": 625
        },
        "id": "YqI4VHkZPosD",
        "outputId": "1660b416-5e8a-47a0-9897-6ce5fb66a6b6"
      },
      "execution_count": 49,
      "outputs": [
        {
          "output_type": "display_data",
          "data": {
            "text/plain": [
              "<Figure size 1000x600 with 1 Axes>"
            ],
            "image/png": "[encoded data removed]"
          },
          "metadata": {}
        },
        {
          "output_type": "execute_result",
          "data": {
            "text/plain": [
              "(1000, 600)"
            ]
          },
          "metadata": {},
          "execution_count": 49
        }
      ]
    },
    {
      "cell_type": "markdown",
      "source": [
        "**Parte IV: Recomendaciones Estratégicas.**"
      ],
      "metadata": {
        "id": "s02-l0eEUE_i"
      }
    },
    {
      "cell_type": "markdown",
      "source": [
        "# Generar recomendaciones estratégicas basadas en los resultados del análisis"
      ],
      "metadata": {
        "id": "OP82s8rtUaNZ"
      }
    },
    {
      "cell_type": "code",
      "source": [
        "# Recomendación para segmentos de alto valor:\n",
        "if rfm_df['RFM'].max() >= 400:\n",
        "  c.drawString(20, 380, 'Para nuestros clientes de alto valor (segmentos con RFM alto), recomendamos implementar programas de')\n",
        "  c.drawString(20, 360, 'lealtad personalizados y ofertas exclusivas para fortalecer su retención y fomentar compras repetidas.')\n",
        "\n",
        "# Recomendación para segmentos de bajo valor:\n",
        "if rfm_df['RFM'].min() <= 200:\n",
        "  c.drawString(20, 330, 'Para los segmentos de bajo valor (RFM bajo), sugerimos lanzar campañas de reactivación con descuentos')\n",
        "  c.drawString(20, 310, 'especiales y contenido relevante para reenganchar a estos clientes.')"
      ],
      "metadata": {
        "id": "6T9rKqBWUiib"
      },
      "execution_count": 50,
      "outputs": []
    },
    {
      "cell_type": "markdown",
      "source": [
        "Guardar el PDF generado"
      ],
      "metadata": {
        "id": "Akeq-b9fcR_8"
      }
    },
    {
      "cell_type": "code",
      "source": [
        "c.save()"
      ],
      "metadata": {
        "id": "66HTahoccWe0"
      },
      "execution_count": 51,
      "outputs": []
    }
  ],
  "metadata": {
    "colab": {
      "provenance": []
    },
    "kernelspec": {
      "display_name": "Python 3",
      "name": "python3"
    },
    "language_info": {
      "name": "python"
    }
  },
  "nbformat": 4,
  "nbformat_minor": 0
}